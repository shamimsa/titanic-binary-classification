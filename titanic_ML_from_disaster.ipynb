{
  "cells": [
    {
      "metadata": {
        "_uuid": "7dab9f973a42ed6b2d523b715b5ba67f655d2033"
      },
      "cell_type": "markdown",
      "source": "# **Getting Started**\nIn this project, the goal is to predict which passengers survived the tragedy of the sinking of Titanic.\nLet's start by importing the necessary modules and importing data:"
    },
    {
      "metadata": {
        "_uuid": "8f2839f25d086af736a60e9eeb907d3b93b6e0e5",
        "_cell_guid": "b1076dfc-b9ad-4769-8c92-a6c4dae69d19",
        "trusted": true,
        "scrolled": true
      },
      "cell_type": "code",
      "source": "# This Python 3 environment comes with many helpful analytics libraries installed\n# It is defined by the kaggle/python docker image: https://github.com/kaggle/docker-python\n# For example, here's several helpful packages to load in \nfrom __future__ import division\nimport numpy as np # linear algebra\nimport pandas as pd # data processing, CSV file I/O (e.g. pd.read_csv)\nimport matplotlib.pyplot as plt\nimport seaborn as sns\n\nfrom sklearn import preprocessing\nfrom sklearn.decomposition import PCA\nfrom sklearn.impute import SimpleImputer\n\nfrom sklearn.ensemble import RandomForestClassifier\n#from xgboost import XGBClassifier\n\nfrom sklearn.model_selection import GridSearchCV\nfrom sklearn.metrics import accuracy_score, roc_auc_score\n# Input data files are available in the \"../input/\" directory.\n# For example, running this (by clicking run or pressing Shift+Enter) will list the files in the input directory\n\nimport os\nprint(os.listdir(\"../input\"))\n\n# Any results you write to the current directory are saved as output.",
      "execution_count": 46,
      "outputs": [
        {
          "output_type": "stream",
          "text": "['train.csv', 'gender_submission.csv', 'test.csv']\n",
          "name": "stdout"
        }
      ]
    },
    {
      "metadata": {
        "trusted": true,
        "_uuid": "7c39afb031081af0eb6a36f177a0b03b911acdda"
      },
      "cell_type": "code",
      "source": "train_df = pd.read_csv('../input/train.csv')\ntrain_df.shape",
      "execution_count": 47,
      "outputs": [
        {
          "output_type": "execute_result",
          "execution_count": 47,
          "data": {
            "text/plain": "(891, 12)"
          },
          "metadata": {}
        }
      ]
    },
    {
      "metadata": {
        "trusted": true,
        "_uuid": "bf09d11f9846e416b7932668ad8e80f3fc9fc15f"
      },
      "cell_type": "code",
      "source": "train_df.head()",
      "execution_count": 48,
      "outputs": [
        {
          "output_type": "execute_result",
          "execution_count": 48,
          "data": {
            "text/plain": "   PassengerId  Survived  Pclass    ...        Fare Cabin  Embarked\n0            1         0       3    ...      7.2500   NaN         S\n1            2         1       1    ...     71.2833   C85         C\n2            3         1       3    ...      7.9250   NaN         S\n3            4         1       1    ...     53.1000  C123         S\n4            5         0       3    ...      8.0500   NaN         S\n\n[5 rows x 12 columns]",
            "text/html": "<div>\n<style scoped>\n    .dataframe tbody tr th:only-of-type {\n        vertical-align: middle;\n    }\n\n    .dataframe tbody tr th {\n        vertical-align: top;\n    }\n\n    .dataframe thead th {\n        text-align: right;\n    }\n</style>\n<table border=\"1\" class=\"dataframe\">\n  <thead>\n    <tr style=\"text-align: right;\">\n      <th></th>\n      <th>PassengerId</th>\n      <th>Survived</th>\n      <th>Pclass</th>\n      <th>Name</th>\n      <th>Sex</th>\n      <th>Age</th>\n      <th>SibSp</th>\n      <th>Parch</th>\n      <th>Ticket</th>\n      <th>Fare</th>\n      <th>Cabin</th>\n      <th>Embarked</th>\n    </tr>\n  </thead>\n  <tbody>\n    <tr>\n      <th>0</th>\n      <td>1</td>\n      <td>0</td>\n      <td>3</td>\n      <td>Braund, Mr. Owen Harris</td>\n      <td>male</td>\n      <td>22.0</td>\n      <td>1</td>\n      <td>0</td>\n      <td>A/5 21171</td>\n      <td>7.2500</td>\n      <td>NaN</td>\n      <td>S</td>\n    </tr>\n    <tr>\n      <th>1</th>\n      <td>2</td>\n      <td>1</td>\n      <td>1</td>\n      <td>Cumings, Mrs. John Bradley (Florence Briggs Th...</td>\n      <td>female</td>\n      <td>38.0</td>\n      <td>1</td>\n      <td>0</td>\n      <td>PC 17599</td>\n      <td>71.2833</td>\n      <td>C85</td>\n      <td>C</td>\n    </tr>\n    <tr>\n      <th>2</th>\n      <td>3</td>\n      <td>1</td>\n      <td>3</td>\n      <td>Heikkinen, Miss. Laina</td>\n      <td>female</td>\n      <td>26.0</td>\n      <td>0</td>\n      <td>0</td>\n      <td>STON/O2. 3101282</td>\n      <td>7.9250</td>\n      <td>NaN</td>\n      <td>S</td>\n    </tr>\n    <tr>\n      <th>3</th>\n      <td>4</td>\n      <td>1</td>\n      <td>1</td>\n      <td>Futrelle, Mrs. Jacques Heath (Lily May Peel)</td>\n      <td>female</td>\n      <td>35.0</td>\n      <td>1</td>\n      <td>0</td>\n      <td>113803</td>\n      <td>53.1000</td>\n      <td>C123</td>\n      <td>S</td>\n    </tr>\n    <tr>\n      <th>4</th>\n      <td>5</td>\n      <td>0</td>\n      <td>3</td>\n      <td>Allen, Mr. William Henry</td>\n      <td>male</td>\n      <td>35.0</td>\n      <td>0</td>\n      <td>0</td>\n      <td>373450</td>\n      <td>8.0500</td>\n      <td>NaN</td>\n      <td>S</td>\n    </tr>\n  </tbody>\n</table>\n</div>"
          },
          "metadata": {}
        }
      ]
    },
    {
      "metadata": {
        "trusted": true,
        "_uuid": "fa4c5cd508991662981dd9ffba3050389351b6cc"
      },
      "cell_type": "code",
      "source": "test_df = pd.read_csv('../input/test.csv')\ntest_df.shape",
      "execution_count": 49,
      "outputs": [
        {
          "output_type": "execute_result",
          "execution_count": 49,
          "data": {
            "text/plain": "(418, 11)"
          },
          "metadata": {}
        }
      ]
    },
    {
      "metadata": {
        "trusted": true,
        "_uuid": "f818138588aa5d5d9dc139a048775943c322caf6"
      },
      "cell_type": "code",
      "source": "test_df.head()",
      "execution_count": 50,
      "outputs": [
        {
          "output_type": "execute_result",
          "execution_count": 50,
          "data": {
            "text/plain": "   PassengerId  Pclass   ...    Cabin Embarked\n0          892       3   ...      NaN        Q\n1          893       3   ...      NaN        S\n2          894       2   ...      NaN        Q\n3          895       3   ...      NaN        S\n4          896       3   ...      NaN        S\n\n[5 rows x 11 columns]",
            "text/html": "<div>\n<style scoped>\n    .dataframe tbody tr th:only-of-type {\n        vertical-align: middle;\n    }\n\n    .dataframe tbody tr th {\n        vertical-align: top;\n    }\n\n    .dataframe thead th {\n        text-align: right;\n    }\n</style>\n<table border=\"1\" class=\"dataframe\">\n  <thead>\n    <tr style=\"text-align: right;\">\n      <th></th>\n      <th>PassengerId</th>\n      <th>Pclass</th>\n      <th>Name</th>\n      <th>Sex</th>\n      <th>Age</th>\n      <th>SibSp</th>\n      <th>Parch</th>\n      <th>Ticket</th>\n      <th>Fare</th>\n      <th>Cabin</th>\n      <th>Embarked</th>\n    </tr>\n  </thead>\n  <tbody>\n    <tr>\n      <th>0</th>\n      <td>892</td>\n      <td>3</td>\n      <td>Kelly, Mr. James</td>\n      <td>male</td>\n      <td>34.5</td>\n      <td>0</td>\n      <td>0</td>\n      <td>330911</td>\n      <td>7.8292</td>\n      <td>NaN</td>\n      <td>Q</td>\n    </tr>\n    <tr>\n      <th>1</th>\n      <td>893</td>\n      <td>3</td>\n      <td>Wilkes, Mrs. James (Ellen Needs)</td>\n      <td>female</td>\n      <td>47.0</td>\n      <td>1</td>\n      <td>0</td>\n      <td>363272</td>\n      <td>7.0000</td>\n      <td>NaN</td>\n      <td>S</td>\n    </tr>\n    <tr>\n      <th>2</th>\n      <td>894</td>\n      <td>2</td>\n      <td>Myles, Mr. Thomas Francis</td>\n      <td>male</td>\n      <td>62.0</td>\n      <td>0</td>\n      <td>0</td>\n      <td>240276</td>\n      <td>9.6875</td>\n      <td>NaN</td>\n      <td>Q</td>\n    </tr>\n    <tr>\n      <th>3</th>\n      <td>895</td>\n      <td>3</td>\n      <td>Wirz, Mr. Albert</td>\n      <td>male</td>\n      <td>27.0</td>\n      <td>0</td>\n      <td>0</td>\n      <td>315154</td>\n      <td>8.6625</td>\n      <td>NaN</td>\n      <td>S</td>\n    </tr>\n    <tr>\n      <th>4</th>\n      <td>896</td>\n      <td>3</td>\n      <td>Hirvonen, Mrs. Alexander (Helga E Lindqvist)</td>\n      <td>female</td>\n      <td>22.0</td>\n      <td>1</td>\n      <td>1</td>\n      <td>3101298</td>\n      <td>12.2875</td>\n      <td>NaN</td>\n      <td>S</td>\n    </tr>\n  </tbody>\n</table>\n</div>"
          },
          "metadata": {}
        }
      ]
    },
    {
      "metadata": {
        "_uuid": "97bbede032530f3f09908365d3536ac1deaadeb8"
      },
      "cell_type": "markdown",
      "source": "# **Pre-processing**"
    },
    {
      "metadata": {
        "_uuid": "72abb3e1ca0fec329771cd924d7c9be92fbbf433"
      },
      "cell_type": "markdown",
      "source": "## **Title Extraction from Passenger Names**"
    },
    {
      "metadata": {
        "_uuid": "9f7390910016bc1471808b6f7eb01761ddc84f12"
      },
      "cell_type": "markdown",
      "source": "Each row of data already has a unique identifier (PassengerId). I have preprocessed the Name column to extract the passenger title from the text data in the Name column. The extracted titles can act as another feature in the model"
    },
    {
      "metadata": {
        "trusted": true,
        "_uuid": "e909292d9220f6fdf93da3684ca1e2182501a835"
      },
      "cell_type": "code",
      "source": "#process name column to extract passenger titles\n#training data\nname_col = train_df['Name']\ntitles_ls = []\nfor name in name_col:\n    title = name.split(', ')[1].split('. ')[0]\n    titles_ls.append(title)\nlist(set(titles_ls)) #get the unique titles",
      "execution_count": 51,
      "outputs": [
        {
          "output_type": "execute_result",
          "execution_count": 51,
          "data": {
            "text/plain": "['Dr',\n 'Master',\n 'Mlle',\n 'Ms',\n 'Mrs',\n 'Major',\n 'Mr',\n 'Sir',\n 'Capt',\n 'Miss',\n 'Jonkheer',\n 'Mme',\n 'Col',\n 'Lady',\n 'Rev',\n 'Don',\n 'the Countess']"
          },
          "metadata": {}
        }
      ]
    },
    {
      "metadata": {
        "trusted": true,
        "_uuid": "65adcf2fed7fc538aab5222039057166312a8fde"
      },
      "cell_type": "markdown",
      "source": "It would help the generalizability of the model to have broader categories as far as the different title categories go. So, next, I manually narrowed down the titles to the following:"
    },
    {
      "metadata": {
        "trusted": true,
        "_uuid": "439af4d8d0e328c8d2150bc73378e2f94c7811a4"
      },
      "cell_type": "code",
      "source": "title_mapper = {\n    \"Capt\":       \"Officer\",\n    \"Col\":        \"Officer\",\n    \"Major\":      \"Officer\",\n    \"Dr\":         \"Officer\",\n    \"Rev\":        \"Officer\",    \n    \"Jonkheer\":   \"Upper_Class\",\n    \"Don\":        \"Upper_Class\",\n    \"Sir\" :       \"Upper_Class\",\n    \"Lady\" :      \"Upper_Class\",    \n    \"the Countess\":\"Upper_Class\",\n    \"Dona\":       \"Upper_Class\",    \n    \"Mlle\":       \"Miss\",\n    \"Miss\" :      \"Miss\",\n    \"Mme\":        \"Mrs\",    \n    \"Ms\":         \"Mrs\",\n    \"Mrs\" :       \"Mrs\",    \n    \"Master\" :    \"Master\",\n    \"Mr\" :        \"Mr\"    \n}",
      "execution_count": 52,
      "outputs": []
    },
    {
      "metadata": {
        "_uuid": "2e1e9554a08d7ffebe9b5ac2103a2162e9257573"
      },
      "cell_type": "markdown",
      "source": "Add Title column to data:"
    },
    {
      "metadata": {
        "trusted": true,
        "_uuid": "866b8cc593f6f2d1e9916c20f0bf27bd4268b276",
        "scrolled": true
      },
      "cell_type": "code",
      "source": "title_col = []\nfor title in titles_ls:\n    title_col.append(title_mapper[title])\ntrain_df['Title'] = title_col  \ntrain_df.head()",
      "execution_count": 53,
      "outputs": [
        {
          "output_type": "execute_result",
          "execution_count": 53,
          "data": {
            "text/plain": "   PassengerId  Survived  Pclass  ...   Cabin Embarked  Title\n0            1         0       3  ...     NaN        S     Mr\n1            2         1       1  ...     C85        C    Mrs\n2            3         1       3  ...     NaN        S   Miss\n3            4         1       1  ...    C123        S    Mrs\n4            5         0       3  ...     NaN        S     Mr\n\n[5 rows x 13 columns]",
            "text/html": "<div>\n<style scoped>\n    .dataframe tbody tr th:only-of-type {\n        vertical-align: middle;\n    }\n\n    .dataframe tbody tr th {\n        vertical-align: top;\n    }\n\n    .dataframe thead th {\n        text-align: right;\n    }\n</style>\n<table border=\"1\" class=\"dataframe\">\n  <thead>\n    <tr style=\"text-align: right;\">\n      <th></th>\n      <th>PassengerId</th>\n      <th>Survived</th>\n      <th>Pclass</th>\n      <th>Name</th>\n      <th>Sex</th>\n      <th>Age</th>\n      <th>SibSp</th>\n      <th>Parch</th>\n      <th>Ticket</th>\n      <th>Fare</th>\n      <th>Cabin</th>\n      <th>Embarked</th>\n      <th>Title</th>\n    </tr>\n  </thead>\n  <tbody>\n    <tr>\n      <th>0</th>\n      <td>1</td>\n      <td>0</td>\n      <td>3</td>\n      <td>Braund, Mr. Owen Harris</td>\n      <td>male</td>\n      <td>22.0</td>\n      <td>1</td>\n      <td>0</td>\n      <td>A/5 21171</td>\n      <td>7.2500</td>\n      <td>NaN</td>\n      <td>S</td>\n      <td>Mr</td>\n    </tr>\n    <tr>\n      <th>1</th>\n      <td>2</td>\n      <td>1</td>\n      <td>1</td>\n      <td>Cumings, Mrs. John Bradley (Florence Briggs Th...</td>\n      <td>female</td>\n      <td>38.0</td>\n      <td>1</td>\n      <td>0</td>\n      <td>PC 17599</td>\n      <td>71.2833</td>\n      <td>C85</td>\n      <td>C</td>\n      <td>Mrs</td>\n    </tr>\n    <tr>\n      <th>2</th>\n      <td>3</td>\n      <td>1</td>\n      <td>3</td>\n      <td>Heikkinen, Miss. Laina</td>\n      <td>female</td>\n      <td>26.0</td>\n      <td>0</td>\n      <td>0</td>\n      <td>STON/O2. 3101282</td>\n      <td>7.9250</td>\n      <td>NaN</td>\n      <td>S</td>\n      <td>Miss</td>\n    </tr>\n    <tr>\n      <th>3</th>\n      <td>4</td>\n      <td>1</td>\n      <td>1</td>\n      <td>Futrelle, Mrs. Jacques Heath (Lily May Peel)</td>\n      <td>female</td>\n      <td>35.0</td>\n      <td>1</td>\n      <td>0</td>\n      <td>113803</td>\n      <td>53.1000</td>\n      <td>C123</td>\n      <td>S</td>\n      <td>Mrs</td>\n    </tr>\n    <tr>\n      <th>4</th>\n      <td>5</td>\n      <td>0</td>\n      <td>3</td>\n      <td>Allen, Mr. William Henry</td>\n      <td>male</td>\n      <td>35.0</td>\n      <td>0</td>\n      <td>0</td>\n      <td>373450</td>\n      <td>8.0500</td>\n      <td>NaN</td>\n      <td>S</td>\n      <td>Mr</td>\n    </tr>\n  </tbody>\n</table>\n</div>"
          },
          "metadata": {}
        }
      ]
    },
    {
      "metadata": {
        "_uuid": "9d2797b4a9ed0f58499a135dc51ddca0855a4f16"
      },
      "cell_type": "markdown",
      "source": "Before we add the Title column to test data, we need to make sure that we will not face any unseen titles (i.e. absent keys in the mapper):"
    },
    {
      "metadata": {
        "trusted": true,
        "_uuid": "e14b0300a0bdb99a6570aa94dfbbf545df654463"
      },
      "cell_type": "code",
      "source": "#test data\nname_col = test_df['Name']\ntitles_ls = []\nfor name in name_col:\n    title = name.split(', ')[1].split('. ')[0]\n    titles_ls.append(title)\nlist(set(titles_ls)) #get the unique titles",
      "execution_count": 54,
      "outputs": [
        {
          "output_type": "execute_result",
          "execution_count": 54,
          "data": {
            "text/plain": "['Dr', 'Master', 'Ms', 'Mrs', 'Mr', 'Miss', 'Col', 'Dona', 'Rev']"
          },
          "metadata": {}
        }
      ]
    },
    {
      "metadata": {
        "_uuid": "39f6aecfcd7791739d60e30b86896f84729e92e7"
      },
      "cell_type": "markdown",
      "source": "Okay there are no new titles in the test set. With that being confirmed, let's add the feature to the test set as well"
    },
    {
      "metadata": {
        "trusted": true,
        "_uuid": "b40ba00decb8629a6f748cebff7d87e2bda99808"
      },
      "cell_type": "code",
      "source": "title_col = []\nfor title in titles_ls:\n    title_col.append(title_mapper[title])\ntest_df['Title'] = title_col  \ntest_df.head()",
      "execution_count": 55,
      "outputs": [
        {
          "output_type": "execute_result",
          "execution_count": 55,
          "data": {
            "text/plain": "   PassengerId  Pclass  ...  Embarked Title\n0          892       3  ...         Q    Mr\n1          893       3  ...         S   Mrs\n2          894       2  ...         Q    Mr\n3          895       3  ...         S    Mr\n4          896       3  ...         S   Mrs\n\n[5 rows x 12 columns]",
            "text/html": "<div>\n<style scoped>\n    .dataframe tbody tr th:only-of-type {\n        vertical-align: middle;\n    }\n\n    .dataframe tbody tr th {\n        vertical-align: top;\n    }\n\n    .dataframe thead th {\n        text-align: right;\n    }\n</style>\n<table border=\"1\" class=\"dataframe\">\n  <thead>\n    <tr style=\"text-align: right;\">\n      <th></th>\n      <th>PassengerId</th>\n      <th>Pclass</th>\n      <th>Name</th>\n      <th>Sex</th>\n      <th>Age</th>\n      <th>SibSp</th>\n      <th>Parch</th>\n      <th>Ticket</th>\n      <th>Fare</th>\n      <th>Cabin</th>\n      <th>Embarked</th>\n      <th>Title</th>\n    </tr>\n  </thead>\n  <tbody>\n    <tr>\n      <th>0</th>\n      <td>892</td>\n      <td>3</td>\n      <td>Kelly, Mr. James</td>\n      <td>male</td>\n      <td>34.5</td>\n      <td>0</td>\n      <td>0</td>\n      <td>330911</td>\n      <td>7.8292</td>\n      <td>NaN</td>\n      <td>Q</td>\n      <td>Mr</td>\n    </tr>\n    <tr>\n      <th>1</th>\n      <td>893</td>\n      <td>3</td>\n      <td>Wilkes, Mrs. James (Ellen Needs)</td>\n      <td>female</td>\n      <td>47.0</td>\n      <td>1</td>\n      <td>0</td>\n      <td>363272</td>\n      <td>7.0000</td>\n      <td>NaN</td>\n      <td>S</td>\n      <td>Mrs</td>\n    </tr>\n    <tr>\n      <th>2</th>\n      <td>894</td>\n      <td>2</td>\n      <td>Myles, Mr. Thomas Francis</td>\n      <td>male</td>\n      <td>62.0</td>\n      <td>0</td>\n      <td>0</td>\n      <td>240276</td>\n      <td>9.6875</td>\n      <td>NaN</td>\n      <td>Q</td>\n      <td>Mr</td>\n    </tr>\n    <tr>\n      <th>3</th>\n      <td>895</td>\n      <td>3</td>\n      <td>Wirz, Mr. Albert</td>\n      <td>male</td>\n      <td>27.0</td>\n      <td>0</td>\n      <td>0</td>\n      <td>315154</td>\n      <td>8.6625</td>\n      <td>NaN</td>\n      <td>S</td>\n      <td>Mr</td>\n    </tr>\n    <tr>\n      <th>4</th>\n      <td>896</td>\n      <td>3</td>\n      <td>Hirvonen, Mrs. Alexander (Helga E Lindqvist)</td>\n      <td>female</td>\n      <td>22.0</td>\n      <td>1</td>\n      <td>1</td>\n      <td>3101298</td>\n      <td>12.2875</td>\n      <td>NaN</td>\n      <td>S</td>\n      <td>Mrs</td>\n    </tr>\n  </tbody>\n</table>\n</div>"
          },
          "metadata": {}
        }
      ]
    },
    {
      "metadata": {
        "_uuid": "4410cb8be1b897cce0eb52a3642d04d3cc909c98"
      },
      "cell_type": "markdown",
      "source": "Now that the feature Title has been successfully created, we can go ahead and remove the Name column:"
    },
    {
      "metadata": {
        "trusted": true,
        "_uuid": "5b6ea40d9978133dfc3024852c819b8e0c51485f"
      },
      "cell_type": "code",
      "source": "train_df.drop('Name', axis=1, inplace=True)\ntrain_df.head()",
      "execution_count": 56,
      "outputs": [
        {
          "output_type": "execute_result",
          "execution_count": 56,
          "data": {
            "text/plain": "   PassengerId  Survived  Pclass     Sex  ...      Fare  Cabin  Embarked Title\n0            1         0       3    male  ...    7.2500    NaN         S    Mr\n1            2         1       1  female  ...   71.2833    C85         C   Mrs\n2            3         1       3  female  ...    7.9250    NaN         S  Miss\n3            4         1       1  female  ...   53.1000   C123         S   Mrs\n4            5         0       3    male  ...    8.0500    NaN         S    Mr\n\n[5 rows x 12 columns]",
            "text/html": "<div>\n<style scoped>\n    .dataframe tbody tr th:only-of-type {\n        vertical-align: middle;\n    }\n\n    .dataframe tbody tr th {\n        vertical-align: top;\n    }\n\n    .dataframe thead th {\n        text-align: right;\n    }\n</style>\n<table border=\"1\" class=\"dataframe\">\n  <thead>\n    <tr style=\"text-align: right;\">\n      <th></th>\n      <th>PassengerId</th>\n      <th>Survived</th>\n      <th>Pclass</th>\n      <th>Sex</th>\n      <th>Age</th>\n      <th>SibSp</th>\n      <th>Parch</th>\n      <th>Ticket</th>\n      <th>Fare</th>\n      <th>Cabin</th>\n      <th>Embarked</th>\n      <th>Title</th>\n    </tr>\n  </thead>\n  <tbody>\n    <tr>\n      <th>0</th>\n      <td>1</td>\n      <td>0</td>\n      <td>3</td>\n      <td>male</td>\n      <td>22.0</td>\n      <td>1</td>\n      <td>0</td>\n      <td>A/5 21171</td>\n      <td>7.2500</td>\n      <td>NaN</td>\n      <td>S</td>\n      <td>Mr</td>\n    </tr>\n    <tr>\n      <th>1</th>\n      <td>2</td>\n      <td>1</td>\n      <td>1</td>\n      <td>female</td>\n      <td>38.0</td>\n      <td>1</td>\n      <td>0</td>\n      <td>PC 17599</td>\n      <td>71.2833</td>\n      <td>C85</td>\n      <td>C</td>\n      <td>Mrs</td>\n    </tr>\n    <tr>\n      <th>2</th>\n      <td>3</td>\n      <td>1</td>\n      <td>3</td>\n      <td>female</td>\n      <td>26.0</td>\n      <td>0</td>\n      <td>0</td>\n      <td>STON/O2. 3101282</td>\n      <td>7.9250</td>\n      <td>NaN</td>\n      <td>S</td>\n      <td>Miss</td>\n    </tr>\n    <tr>\n      <th>3</th>\n      <td>4</td>\n      <td>1</td>\n      <td>1</td>\n      <td>female</td>\n      <td>35.0</td>\n      <td>1</td>\n      <td>0</td>\n      <td>113803</td>\n      <td>53.1000</td>\n      <td>C123</td>\n      <td>S</td>\n      <td>Mrs</td>\n    </tr>\n    <tr>\n      <th>4</th>\n      <td>5</td>\n      <td>0</td>\n      <td>3</td>\n      <td>male</td>\n      <td>35.0</td>\n      <td>0</td>\n      <td>0</td>\n      <td>373450</td>\n      <td>8.0500</td>\n      <td>NaN</td>\n      <td>S</td>\n      <td>Mr</td>\n    </tr>\n  </tbody>\n</table>\n</div>"
          },
          "metadata": {}
        }
      ]
    },
    {
      "metadata": {
        "trusted": true,
        "_uuid": "c42d45f0681ce4b09bd2ed4f57eb0829d0c76f56"
      },
      "cell_type": "code",
      "source": "test_df.drop('Name', axis=1, inplace=True)\ntest_df.head()",
      "execution_count": 57,
      "outputs": [
        {
          "output_type": "execute_result",
          "execution_count": 57,
          "data": {
            "text/plain": "   PassengerId  Pclass     Sex   Age  ...       Fare  Cabin Embarked  Title\n0          892       3    male  34.5  ...     7.8292    NaN        Q     Mr\n1          893       3  female  47.0  ...     7.0000    NaN        S    Mrs\n2          894       2    male  62.0  ...     9.6875    NaN        Q     Mr\n3          895       3    male  27.0  ...     8.6625    NaN        S     Mr\n4          896       3  female  22.0  ...    12.2875    NaN        S    Mrs\n\n[5 rows x 11 columns]",
            "text/html": "<div>\n<style scoped>\n    .dataframe tbody tr th:only-of-type {\n        vertical-align: middle;\n    }\n\n    .dataframe tbody tr th {\n        vertical-align: top;\n    }\n\n    .dataframe thead th {\n        text-align: right;\n    }\n</style>\n<table border=\"1\" class=\"dataframe\">\n  <thead>\n    <tr style=\"text-align: right;\">\n      <th></th>\n      <th>PassengerId</th>\n      <th>Pclass</th>\n      <th>Sex</th>\n      <th>Age</th>\n      <th>SibSp</th>\n      <th>Parch</th>\n      <th>Ticket</th>\n      <th>Fare</th>\n      <th>Cabin</th>\n      <th>Embarked</th>\n      <th>Title</th>\n    </tr>\n  </thead>\n  <tbody>\n    <tr>\n      <th>0</th>\n      <td>892</td>\n      <td>3</td>\n      <td>male</td>\n      <td>34.5</td>\n      <td>0</td>\n      <td>0</td>\n      <td>330911</td>\n      <td>7.8292</td>\n      <td>NaN</td>\n      <td>Q</td>\n      <td>Mr</td>\n    </tr>\n    <tr>\n      <th>1</th>\n      <td>893</td>\n      <td>3</td>\n      <td>female</td>\n      <td>47.0</td>\n      <td>1</td>\n      <td>0</td>\n      <td>363272</td>\n      <td>7.0000</td>\n      <td>NaN</td>\n      <td>S</td>\n      <td>Mrs</td>\n    </tr>\n    <tr>\n      <th>2</th>\n      <td>894</td>\n      <td>2</td>\n      <td>male</td>\n      <td>62.0</td>\n      <td>0</td>\n      <td>0</td>\n      <td>240276</td>\n      <td>9.6875</td>\n      <td>NaN</td>\n      <td>Q</td>\n      <td>Mr</td>\n    </tr>\n    <tr>\n      <th>3</th>\n      <td>895</td>\n      <td>3</td>\n      <td>male</td>\n      <td>27.0</td>\n      <td>0</td>\n      <td>0</td>\n      <td>315154</td>\n      <td>8.6625</td>\n      <td>NaN</td>\n      <td>S</td>\n      <td>Mr</td>\n    </tr>\n    <tr>\n      <th>4</th>\n      <td>896</td>\n      <td>3</td>\n      <td>female</td>\n      <td>22.0</td>\n      <td>1</td>\n      <td>1</td>\n      <td>3101298</td>\n      <td>12.2875</td>\n      <td>NaN</td>\n      <td>S</td>\n      <td>Mrs</td>\n    </tr>\n  </tbody>\n</table>\n</div>"
          },
          "metadata": {}
        }
      ]
    },
    {
      "metadata": {
        "trusted": true,
        "_uuid": "e622c62ec1e78e8866c50cdab794f247eb42c606"
      },
      "cell_type": "code",
      "source": "passengerId = test_df['PassengerId']",
      "execution_count": 58,
      "outputs": []
    },
    {
      "metadata": {
        "trusted": true,
        "_uuid": "f4cc7a6f9f119e2da73b68a0af8a8a3f37e29bf9"
      },
      "cell_type": "code",
      "source": "train_df.drop('PassengerId', axis=1, inplace=True)\ntrain_df.head()",
      "execution_count": 59,
      "outputs": [
        {
          "output_type": "execute_result",
          "execution_count": 59,
          "data": {
            "text/plain": "   Survived  Pclass     Sex   Age  ...       Fare  Cabin Embarked  Title\n0         0       3    male  22.0  ...     7.2500    NaN        S     Mr\n1         1       1  female  38.0  ...    71.2833    C85        C    Mrs\n2         1       3  female  26.0  ...     7.9250    NaN        S   Miss\n3         1       1  female  35.0  ...    53.1000   C123        S    Mrs\n4         0       3    male  35.0  ...     8.0500    NaN        S     Mr\n\n[5 rows x 11 columns]",
            "text/html": "<div>\n<style scoped>\n    .dataframe tbody tr th:only-of-type {\n        vertical-align: middle;\n    }\n\n    .dataframe tbody tr th {\n        vertical-align: top;\n    }\n\n    .dataframe thead th {\n        text-align: right;\n    }\n</style>\n<table border=\"1\" class=\"dataframe\">\n  <thead>\n    <tr style=\"text-align: right;\">\n      <th></th>\n      <th>Survived</th>\n      <th>Pclass</th>\n      <th>Sex</th>\n      <th>Age</th>\n      <th>SibSp</th>\n      <th>Parch</th>\n      <th>Ticket</th>\n      <th>Fare</th>\n      <th>Cabin</th>\n      <th>Embarked</th>\n      <th>Title</th>\n    </tr>\n  </thead>\n  <tbody>\n    <tr>\n      <th>0</th>\n      <td>0</td>\n      <td>3</td>\n      <td>male</td>\n      <td>22.0</td>\n      <td>1</td>\n      <td>0</td>\n      <td>A/5 21171</td>\n      <td>7.2500</td>\n      <td>NaN</td>\n      <td>S</td>\n      <td>Mr</td>\n    </tr>\n    <tr>\n      <th>1</th>\n      <td>1</td>\n      <td>1</td>\n      <td>female</td>\n      <td>38.0</td>\n      <td>1</td>\n      <td>0</td>\n      <td>PC 17599</td>\n      <td>71.2833</td>\n      <td>C85</td>\n      <td>C</td>\n      <td>Mrs</td>\n    </tr>\n    <tr>\n      <th>2</th>\n      <td>1</td>\n      <td>3</td>\n      <td>female</td>\n      <td>26.0</td>\n      <td>0</td>\n      <td>0</td>\n      <td>STON/O2. 3101282</td>\n      <td>7.9250</td>\n      <td>NaN</td>\n      <td>S</td>\n      <td>Miss</td>\n    </tr>\n    <tr>\n      <th>3</th>\n      <td>1</td>\n      <td>1</td>\n      <td>female</td>\n      <td>35.0</td>\n      <td>1</td>\n      <td>0</td>\n      <td>113803</td>\n      <td>53.1000</td>\n      <td>C123</td>\n      <td>S</td>\n      <td>Mrs</td>\n    </tr>\n    <tr>\n      <th>4</th>\n      <td>0</td>\n      <td>3</td>\n      <td>male</td>\n      <td>35.0</td>\n      <td>0</td>\n      <td>0</td>\n      <td>373450</td>\n      <td>8.0500</td>\n      <td>NaN</td>\n      <td>S</td>\n      <td>Mr</td>\n    </tr>\n  </tbody>\n</table>\n</div>"
          },
          "metadata": {}
        }
      ]
    },
    {
      "metadata": {
        "trusted": true,
        "_uuid": "8543e7d9cc4c0551be35e271f514d90f5e239bf7"
      },
      "cell_type": "code",
      "source": "test_df.drop('PassengerId', axis=1, inplace=True)\ntest_df.head()",
      "execution_count": 60,
      "outputs": [
        {
          "output_type": "execute_result",
          "execution_count": 60,
          "data": {
            "text/plain": "   Pclass     Sex   Age  SibSp  ...      Fare Cabin  Embarked Title\n0       3    male  34.5      0  ...    7.8292   NaN         Q    Mr\n1       3  female  47.0      1  ...    7.0000   NaN         S   Mrs\n2       2    male  62.0      0  ...    9.6875   NaN         Q    Mr\n3       3    male  27.0      0  ...    8.6625   NaN         S    Mr\n4       3  female  22.0      1  ...   12.2875   NaN         S   Mrs\n\n[5 rows x 10 columns]",
            "text/html": "<div>\n<style scoped>\n    .dataframe tbody tr th:only-of-type {\n        vertical-align: middle;\n    }\n\n    .dataframe tbody tr th {\n        vertical-align: top;\n    }\n\n    .dataframe thead th {\n        text-align: right;\n    }\n</style>\n<table border=\"1\" class=\"dataframe\">\n  <thead>\n    <tr style=\"text-align: right;\">\n      <th></th>\n      <th>Pclass</th>\n      <th>Sex</th>\n      <th>Age</th>\n      <th>SibSp</th>\n      <th>Parch</th>\n      <th>Ticket</th>\n      <th>Fare</th>\n      <th>Cabin</th>\n      <th>Embarked</th>\n      <th>Title</th>\n    </tr>\n  </thead>\n  <tbody>\n    <tr>\n      <th>0</th>\n      <td>3</td>\n      <td>male</td>\n      <td>34.5</td>\n      <td>0</td>\n      <td>0</td>\n      <td>330911</td>\n      <td>7.8292</td>\n      <td>NaN</td>\n      <td>Q</td>\n      <td>Mr</td>\n    </tr>\n    <tr>\n      <th>1</th>\n      <td>3</td>\n      <td>female</td>\n      <td>47.0</td>\n      <td>1</td>\n      <td>0</td>\n      <td>363272</td>\n      <td>7.0000</td>\n      <td>NaN</td>\n      <td>S</td>\n      <td>Mrs</td>\n    </tr>\n    <tr>\n      <th>2</th>\n      <td>2</td>\n      <td>male</td>\n      <td>62.0</td>\n      <td>0</td>\n      <td>0</td>\n      <td>240276</td>\n      <td>9.6875</td>\n      <td>NaN</td>\n      <td>Q</td>\n      <td>Mr</td>\n    </tr>\n    <tr>\n      <th>3</th>\n      <td>3</td>\n      <td>male</td>\n      <td>27.0</td>\n      <td>0</td>\n      <td>0</td>\n      <td>315154</td>\n      <td>8.6625</td>\n      <td>NaN</td>\n      <td>S</td>\n      <td>Mr</td>\n    </tr>\n    <tr>\n      <th>4</th>\n      <td>3</td>\n      <td>female</td>\n      <td>22.0</td>\n      <td>1</td>\n      <td>1</td>\n      <td>3101298</td>\n      <td>12.2875</td>\n      <td>NaN</td>\n      <td>S</td>\n      <td>Mrs</td>\n    </tr>\n  </tbody>\n</table>\n</div>"
          },
          "metadata": {}
        }
      ]
    },
    {
      "metadata": {
        "_uuid": "38a4f04a6c28ef5307db8557f8ca60ac9dd56b70"
      },
      "cell_type": "markdown",
      "source": "## **Handling Missing Values**"
    },
    {
      "metadata": {
        "_uuid": "92beb6c84482144298b5cecc6e167922da572318"
      },
      "cell_type": "markdown",
      "source": "As the quick scanning of the dataset hints, there are columns in both train and test data that contain missing values. Let's look closer to the data for possible missing values and go about handling these missing entries in the data:"
    },
    {
      "metadata": {
        "trusted": true,
        "scrolled": false,
        "_uuid": "8fe00cf0b770df5ec9ce552eb44e174a57f31df4"
      },
      "cell_type": "code",
      "source": "#print number of missing entries in each column of the training data\ntrain_df.isnull().sum()",
      "execution_count": 61,
      "outputs": [
        {
          "output_type": "execute_result",
          "execution_count": 61,
          "data": {
            "text/plain": "Survived      0\nPclass        0\nSex           0\nAge         177\nSibSp         0\nParch         0\nTicket        0\nFare          0\nCabin       687\nEmbarked      2\nTitle         0\ndtype: int64"
          },
          "metadata": {}
        }
      ]
    },
    {
      "metadata": {
        "trusted": true,
        "_uuid": "f79bc011df05c86b9fe26205f5811920db0f4fa2"
      },
      "cell_type": "code",
      "source": "#detect which columns include NaN's in the training data\nnan_col_train = train_df.columns[train_df.isna().any()].tolist() #train data\nnan_col_train",
      "execution_count": 62,
      "outputs": [
        {
          "output_type": "execute_result",
          "execution_count": 62,
          "data": {
            "text/plain": "['Age', 'Cabin', 'Embarked']"
          },
          "metadata": {}
        }
      ]
    },
    {
      "metadata": {
        "trusted": true,
        "_uuid": "e873e12e58626a4f7352dbc02e79fd1def11d408"
      },
      "cell_type": "code",
      "source": "#print number of missing entries in each column of the test data\ntest_df.isnull().sum()",
      "execution_count": 63,
      "outputs": [
        {
          "output_type": "execute_result",
          "execution_count": 63,
          "data": {
            "text/plain": "Pclass        0\nSex           0\nAge          86\nSibSp         0\nParch         0\nTicket        0\nFare          1\nCabin       327\nEmbarked      0\nTitle         0\ndtype: int64"
          },
          "metadata": {}
        }
      ]
    },
    {
      "metadata": {
        "trusted": true,
        "_uuid": "aec4e56a664518db7b178294c5cc068c4b867358",
        "scrolled": true
      },
      "cell_type": "code",
      "source": "#detect which columns include NaN's in the test dataset\nnan_col_test = test_df.columns[test_df.isna().any()].tolist() #test data\nnan_col_test",
      "execution_count": 64,
      "outputs": [
        {
          "output_type": "execute_result",
          "execution_count": 64,
          "data": {
            "text/plain": "['Age', 'Fare', 'Cabin']"
          },
          "metadata": {}
        }
      ]
    },
    {
      "metadata": {
        "_uuid": "92f6c3514d850bed3c6b3e40e6b4f5b1b9bd15dd"
      },
      "cell_type": "markdown",
      "source": "As indicated above, each of the training and test dataset has three columns that include at least one NaN value. We can also take a look at the percentage of the missing entries for each of these features:"
    },
    {
      "metadata": {
        "trusted": true,
        "_uuid": "e246e099ee8395f3e6ee2442e6afc239d762e781"
      },
      "cell_type": "code",
      "source": "#train data\nfor col in nan_col_train:\n    col_data = train_df[col]\n    null_entry_cnt = col_data.isnull().sum()\n    #print(null_entry_cnt)    \n    total_entry_cnt = len(col_data)\n    nul_ratio = float(null_entry_cnt)/float(total_entry_cnt)\n    print(\"For the training set, %.2f percent of data in the column %s is missing entries\" \\\n          % (100*nul_ratio, col))\n# test data\nfor col in nan_col_test:\n    col_data = test_df[col]\n    null_entry_cnt = col_data.isnull().sum()\n    #print(null_entry_cnt)\n    total_entry_cnt = len(col_data)\n    nul_ratio = float(null_entry_cnt)/float(total_entry_cnt)\n    print(\"For the test set, %.2f percent of data in the column %s is missing entries\" \\\n          % (100*nul_ratio, col))",
      "execution_count": 65,
      "outputs": [
        {
          "output_type": "stream",
          "text": "For the training set, 19.87 percent of data in the column Age is missing entries\nFor the training set, 77.10 percent of data in the column Cabin is missing entries\nFor the training set, 0.22 percent of data in the column Embarked is missing entries\nFor the test set, 20.57 percent of data in the column Age is missing entries\nFor the test set, 0.24 percent of data in the column Fare is missing entries\nFor the test set, 78.23 percent of data in the column Cabin is missing entries\n",
          "name": "stdout"
        }
      ]
    },
    {
      "metadata": {
        "_uuid": "bd28d18fc4646094ca9327f9f4e9ecb57659c2b5"
      },
      "cell_type": "markdown",
      "source": "I have used imputation to handle the missing values:"
    },
    {
      "metadata": {
        "trusted": true,
        "_uuid": "70048766742b44e8e0040c8e2f4810fb77998afd"
      },
      "cell_type": "code",
      "source": "imp_const = SimpleImputer(missing_values=np.nan, strategy='constant', fill_value=\"unk\")\nimp_const.fit(train_df[['Cabin']])",
      "execution_count": 66,
      "outputs": [
        {
          "output_type": "execute_result",
          "execution_count": 66,
          "data": {
            "text/plain": "SimpleImputer(copy=True, fill_value='unk', missing_values=nan,\n       strategy='constant', verbose=0)"
          },
          "metadata": {}
        }
      ]
    },
    {
      "metadata": {
        "trusted": true,
        "_uuid": "bb99a868bb09babe86d4e41f6f2dc01dbe14bf3e"
      },
      "cell_type": "code",
      "source": "train_df['Cabin'].head(10)",
      "execution_count": 67,
      "outputs": [
        {
          "output_type": "execute_result",
          "execution_count": 67,
          "data": {
            "text/plain": "0     NaN\n1     C85\n2     NaN\n3    C123\n4     NaN\n5     NaN\n6     E46\n7     NaN\n8     NaN\n9     NaN\nName: Cabin, dtype: object"
          },
          "metadata": {}
        }
      ]
    },
    {
      "metadata": {
        "trusted": true,
        "_uuid": "d364086069a2e0ea9e1fa7c5c64ba55e5588e06b"
      },
      "cell_type": "code",
      "source": "train_df['Cabin'] = imp_const.transform(train_df[['Cabin']]).ravel()",
      "execution_count": 68,
      "outputs": []
    },
    {
      "metadata": {
        "trusted": true,
        "_uuid": "9210565c4a8c71fd7fa708017e394695122cf7b2"
      },
      "cell_type": "code",
      "source": "train_df['Cabin'].head(10)",
      "execution_count": 69,
      "outputs": [
        {
          "output_type": "execute_result",
          "execution_count": 69,
          "data": {
            "text/plain": "0     unk\n1     C85\n2     unk\n3    C123\n4     unk\n5     unk\n6     E46\n7     unk\n8     unk\n9     unk\nName: Cabin, dtype: object"
          },
          "metadata": {}
        }
      ]
    },
    {
      "metadata": {
        "_uuid": "286d04a3ba3e234b4c33002aab9ac001d57ae550"
      },
      "cell_type": "markdown",
      "source": "For the column \"Cabin\", since the percentage of missing values is very big, I used the constant imputation method to replace all the NaN's with string \"unk\". Let's use the fitted imputer to transform the test set as well:"
    },
    {
      "metadata": {
        "trusted": true,
        "_uuid": "426e5b2918aae7caa3a48a08df37c87a303c09d7"
      },
      "cell_type": "code",
      "source": "test_df['Cabin'] = imp_const.transform(test_df[['Cabin']]).ravel()\ntest_df['Cabin'].head(10)",
      "execution_count": 70,
      "outputs": [
        {
          "output_type": "execute_result",
          "execution_count": 70,
          "data": {
            "text/plain": "0    unk\n1    unk\n2    unk\n3    unk\n4    unk\n5    unk\n6    unk\n7    unk\n8    unk\n9    unk\nName: Cabin, dtype: object"
          },
          "metadata": {}
        }
      ]
    },
    {
      "metadata": {
        "_uuid": "df0fc884d01953da6e9c4931385f2b9299b2269a"
      },
      "cell_type": "markdown",
      "source": "For Age and Fare, use median of the existing values for imputation:"
    },
    {
      "metadata": {
        "trusted": true,
        "_uuid": "86834dc48c7790b58cc70c8cfec79075fb23064d",
        "scrolled": true
      },
      "cell_type": "code",
      "source": "imp_median_age = SimpleImputer(missing_values=np.nan, strategy='median')\nimp_median_age.fit(train_df[['Age']])",
      "execution_count": 71,
      "outputs": [
        {
          "output_type": "execute_result",
          "execution_count": 71,
          "data": {
            "text/plain": "SimpleImputer(copy=True, fill_value=None, missing_values=nan,\n       strategy='median', verbose=0)"
          },
          "metadata": {}
        }
      ]
    },
    {
      "metadata": {
        "trusted": true,
        "_uuid": "dcc753c010ccaee4f499a92d5ff058efb2b5bf12"
      },
      "cell_type": "code",
      "source": "train_df['Age'] = imp_median_age.transform(train_df[['Age']]).ravel()",
      "execution_count": 72,
      "outputs": []
    },
    {
      "metadata": {
        "trusted": true,
        "_uuid": "0b55f7383f240623ae1d0a9e586a24765cbaf855"
      },
      "cell_type": "code",
      "source": "test_df['Age'] = imp_median_age.transform(test_df[['Age']]).ravel()",
      "execution_count": 73,
      "outputs": []
    },
    {
      "metadata": {
        "trusted": true,
        "_uuid": "1acc9b0c9ab7c8d511f3f1cc9f806a1dd15bd2f2"
      },
      "cell_type": "code",
      "source": "imp_median_fare = SimpleImputer(missing_values=np.nan, strategy='median')\nimp_median_fare.fit(train_df[['Fare']])",
      "execution_count": 74,
      "outputs": [
        {
          "output_type": "execute_result",
          "execution_count": 74,
          "data": {
            "text/plain": "SimpleImputer(copy=True, fill_value=None, missing_values=nan,\n       strategy='median', verbose=0)"
          },
          "metadata": {}
        }
      ]
    },
    {
      "metadata": {
        "trusted": true,
        "_uuid": "017ed60e02b869375603390218f2698a9922f8ef"
      },
      "cell_type": "code",
      "source": "test_df['Fare'] = imp_median_fare.transform(test_df[['Fare']]).ravel()",
      "execution_count": 75,
      "outputs": []
    },
    {
      "metadata": {
        "trusted": true,
        "_uuid": "7ef70fd6f62ef63992b85c0290fd179618fba8ba"
      },
      "cell_type": "code",
      "source": "imp_frequent = SimpleImputer(strategy='most_frequent')\nimp_frequent.fit(train_df[['Embarked']])",
      "execution_count": 76,
      "outputs": [
        {
          "output_type": "execute_result",
          "execution_count": 76,
          "data": {
            "text/plain": "SimpleImputer(copy=True, fill_value=None, missing_values=nan,\n       strategy='most_frequent', verbose=0)"
          },
          "metadata": {}
        }
      ]
    },
    {
      "metadata": {
        "trusted": true,
        "_uuid": "029e94755f34a28e9cd73b7099675e1bc623add7"
      },
      "cell_type": "code",
      "source": "train_df['Embarked'] = imp_frequent.transform(train_df[['Embarked']]).ravel()",
      "execution_count": 77,
      "outputs": []
    },
    {
      "metadata": {
        "_uuid": "b64f59ec7fc80dd9c0b2c66df0aae8bc5fccd3d5"
      },
      "cell_type": "markdown",
      "source": "## **Handling Categorical Features**"
    },
    {
      "metadata": {
        "_uuid": "8ed8c5c15025882b66c93cc3643938e29edf6a4f"
      },
      "cell_type": "markdown",
      "source": "Now, let's perform one-hot encoding on categorical features. For that, we would first need to detect which column(s) represent categorical variables:"
    },
    {
      "metadata": {
        "trusted": true,
        "scrolled": true,
        "_uuid": "f7d900e5c877409ce3295d2076f2d04fc6d5304f"
      },
      "cell_type": "code",
      "source": "# categorical variables in training data\nall_col = train_df.columns\nnum_cols = train_df._get_numeric_data().columns\ncat_cols_train = list(set(all_col) - set(num_cols))\n# categorical variables in test data\nall_col = test_df.columns\nnum_cols = test_df._get_numeric_data().columns\ncat_cols_test = list(set(all_col) - set(num_cols))",
      "execution_count": 78,
      "outputs": []
    },
    {
      "metadata": {
        "trusted": true,
        "_uuid": "6aabc0bb53926615a413f4124a1f129e7fe011bf"
      },
      "cell_type": "code",
      "source": "cat_cols = list(set(cat_cols_train + cat_cols_test))\ncat_cols",
      "execution_count": 79,
      "outputs": [
        {
          "output_type": "execute_result",
          "execution_count": 79,
          "data": {
            "text/plain": "['Embarked', 'Cabin', 'Title', 'Ticket', 'Sex']"
          },
          "metadata": {}
        }
      ]
    },
    {
      "metadata": {
        "trusted": true,
        "_uuid": "72fa493bc223a95189bc24543a2786ceff79f8f4"
      },
      "cell_type": "code",
      "source": "#train = pd.get_dummies(train_df, columns=cat_cols)\n#test = pd.get_dummies(test_df, columns=cat_cols)\nlen_train = train_df.shape[0]\ntrain_test_df = pd.concat([train_df, test_df])\nX_train_test_ohe = pd.get_dummies(train_test_df, columns=cat_cols)\n\n# Separate them again into train and test\ntrain_df, test_df = X_train_test_ohe.iloc[:len_train, :], X_train_test_ohe.iloc[len_train:, :]",
      "execution_count": 80,
      "outputs": [
        {
          "output_type": "stream",
          "text": "/opt/conda/lib/python3.6/site-packages/ipykernel_launcher.py:4: FutureWarning: Sorting because non-concatenation axis is not aligned. A future version\nof pandas will change to not sort by default.\n\nTo accept the future behavior, pass 'sort=False'.\n\nTo retain the current behavior and silence the warning, pass 'sort=True'.\n\n  after removing the cwd from sys.path.\n",
          "name": "stderr"
        }
      ]
    },
    {
      "metadata": {
        "trusted": true,
        "_uuid": "df56a42232cfb990826c58e234a2b3680da9756e"
      },
      "cell_type": "markdown",
      "source": "Now let's further process train data to extract the labels:"
    },
    {
      "metadata": {
        "trusted": true,
        "_uuid": "0f325af2406126842231b35f52af4582da7f40e0"
      },
      "cell_type": "code",
      "source": "y_train_col = train_df.Survived \ny_train = y_train_col.values\nx_train_df = train_df.drop(['Survived'], axis=1)\nx_train = x_train_df.values",
      "execution_count": 81,
      "outputs": []
    },
    {
      "metadata": {
        "trusted": true,
        "_uuid": "173de602203a4b83516abe30b70704c2cf3f9b3b",
        "scrolled": true
      },
      "cell_type": "code",
      "source": "x_train.shape",
      "execution_count": 82,
      "outputs": [
        {
          "output_type": "execute_result",
          "execution_count": 82,
          "data": {
            "text/plain": "(891, 1132)"
          },
          "metadata": {}
        }
      ]
    },
    {
      "metadata": {
        "trusted": true,
        "_uuid": "8e860795c52631955b7e6aab6f62211768f27bd4"
      },
      "cell_type": "code",
      "source": "y_train.shape",
      "execution_count": 83,
      "outputs": [
        {
          "output_type": "execute_result",
          "execution_count": 83,
          "data": {
            "text/plain": "(891,)"
          },
          "metadata": {}
        }
      ]
    },
    {
      "metadata": {
        "trusted": true,
        "_uuid": "8205a50c11d5b0f60f69b7ca8895bf293e009fb8"
      },
      "cell_type": "code",
      "source": "# drop the label column in test data\nx_test_df = test_df.drop(['Survived'], axis=1)\nx_test = x_test_df.values\nx_test.shape",
      "execution_count": 84,
      "outputs": [
        {
          "output_type": "execute_result",
          "execution_count": 84,
          "data": {
            "text/plain": "(418, 1132)"
          },
          "metadata": {}
        }
      ]
    },
    {
      "metadata": {
        "_uuid": "b33a42d1bd8978a57da42792dd720bffcc0dfe80"
      },
      "cell_type": "markdown",
      "source": "To get more insight into the data, let's take a look at the training labels to get a sense of the relative population of the two classes (\"survived\" vs. \"not-survived\")"
    },
    {
      "metadata": {
        "trusted": true,
        "_uuid": "45cde994f42033c36f1d5a5e255997a33362c77d"
      },
      "cell_type": "code",
      "source": "label_map = {}\nlabel_map = {1: \"survived\", 0: \"deceased\"} #map label to survival status for visualization purposes\nlabel_map",
      "execution_count": 85,
      "outputs": [
        {
          "output_type": "execute_result",
          "execution_count": 85,
          "data": {
            "text/plain": "{1: 'survived', 0: 'deceased'}"
          },
          "metadata": {}
        }
      ]
    },
    {
      "metadata": {
        "trusted": true,
        "_uuid": "f39c42520f3458051a2241e5a1a1278ef3f8c6da"
      },
      "cell_type": "code",
      "source": "passngr_cnt  = y_train_col.value_counts()\npassngr_idx = passngr_cnt.index\nplt_idx = [label_map[idx] for idx in passngr_idx]    \nplt.figure()\nsns.barplot(plt_idx, passngr_cnt.values, alpha=0.8)\nplt.title('Passenger survival according to training data')\nplt.ylabel('Number of Occurrences', fontsize=12)\nplt.xlabel('passenger survival', fontsize=12)\nplt.show()",
      "execution_count": 86,
      "outputs": [
        {
          "output_type": "display_data",
          "data": {
            "text/plain": "<Figure size 432x288 with 1 Axes>",
            "image/png": "[encoded data removed]"
          },
          "metadata": {}
        }
      ]
    },
    {
      "metadata": {
        "_uuid": "9534f2a12192e6a531ae230512944beb482167ce"
      },
      "cell_type": "markdown",
      "source": "## **Feature Scaling**"
    },
    {
      "metadata": {
        "_uuid": "e3a45203abe631de693e92c88df6fcafbe2f8c01"
      },
      "cell_type": "markdown",
      "source": "Let's standardize the features before fitting our model:"
    },
    {
      "metadata": {
        "trusted": true,
        "_uuid": "de89057619600edfd43c8eeecde4f81a7c6235f1"
      },
      "cell_type": "code",
      "source": "#perform feature standardization\nscaler = preprocessing.StandardScaler().fit(x_train)\nx_train = scaler.transform(x_train) \nx_test = scaler.transform(x_test)",
      "execution_count": 87,
      "outputs": []
    },
    {
      "metadata": {
        "_uuid": "575a1df8e3d07a3fc06eabe106b52cd778b54e7b"
      },
      "cell_type": "markdown",
      "source": "## **Classification**"
    },
    {
      "metadata": {
        "_uuid": "96c480a4c057ec44eba63723a12f7c74c89983ce"
      },
      "cell_type": "markdown",
      "source": "For my classification model, I have used Random Forest classifier from Scikit-learn. I performed hyperparameter tuning via cross validation as below:"
    },
    {
      "metadata": {
        "_uuid": "2cb11caa116ff6485ae5ccd8f27e2e7d822446e0",
        "trusted": true
      },
      "cell_type": "code",
      "source": "# Random Forest\nclf = RandomForestClassifier(random_state=0)\nparam_grid = {'n_estimators': [5, 10, 15, 20, 25, 50],\n              'max_depth': [2, 5, 7, 10],\n              'max_features': [250, 300, 400, 500],\n              'min_samples_leaf': [5, 10, 50]\n             }\n#'min_samples_leaf': [2, 3, 4, 5]\ngrid_search = GridSearchCV(estimator=clf, param_grid=param_grid, \n                        cv=5, scoring ='accuracy')\ngrid_search.fit(x_train, y_train)\n\ngrid_search.best_estimator_",
      "execution_count": 88,
      "outputs": [
        {
          "output_type": "execute_result",
          "execution_count": 88,
          "data": {
            "text/plain": "RandomForestClassifier(bootstrap=True, class_weight=None, criterion='gini',\n            max_depth=7, max_features=500, max_leaf_nodes=None,\n            min_impurity_decrease=0.0, min_impurity_split=None,\n            min_samples_leaf=10, min_samples_split=2,\n            min_weight_fraction_leaf=0.0, n_estimators=50, n_jobs=None,\n            oob_score=False, random_state=0, verbose=0, warm_start=False)"
          },
          "metadata": {}
        }
      ]
    },
    {
      "metadata": {
        "trusted": true,
        "_uuid": "03ed843afcddb9ed124f281cb5723ad5bd84d90f"
      },
      "cell_type": "code",
      "source": "preds = [int(pred) for pred in grid_search.predict(x_test)]\nresult = pd.DataFrame({'PassengerId': passengerId, 'Survived': preds})\n# save to csv\nresult.head(10)",
      "execution_count": 89,
      "outputs": [
        {
          "output_type": "execute_result",
          "execution_count": 89,
          "data": {
            "text/plain": "   PassengerId  Survived\n0          892         0\n1          893         0\n2          894         0\n3          895         0\n4          896         1\n5          897         0\n6          898         1\n7          899         0\n8          900         1\n9          901         0",
            "text/html": "<div>\n<style scoped>\n    .dataframe tbody tr th:only-of-type {\n        vertical-align: middle;\n    }\n\n    .dataframe tbody tr th {\n        vertical-align: top;\n    }\n\n    .dataframe thead th {\n        text-align: right;\n    }\n</style>\n<table border=\"1\" class=\"dataframe\">\n  <thead>\n    <tr style=\"text-align: right;\">\n      <th></th>\n      <th>PassengerId</th>\n      <th>Survived</th>\n    </tr>\n  </thead>\n  <tbody>\n    <tr>\n      <th>0</th>\n      <td>892</td>\n      <td>0</td>\n    </tr>\n    <tr>\n      <th>1</th>\n      <td>893</td>\n      <td>0</td>\n    </tr>\n    <tr>\n      <th>2</th>\n      <td>894</td>\n      <td>0</td>\n    </tr>\n    <tr>\n      <th>3</th>\n      <td>895</td>\n      <td>0</td>\n    </tr>\n    <tr>\n      <th>4</th>\n      <td>896</td>\n      <td>1</td>\n    </tr>\n    <tr>\n      <th>5</th>\n      <td>897</td>\n      <td>0</td>\n    </tr>\n    <tr>\n      <th>6</th>\n      <td>898</td>\n      <td>1</td>\n    </tr>\n    <tr>\n      <th>7</th>\n      <td>899</td>\n      <td>0</td>\n    </tr>\n    <tr>\n      <th>8</th>\n      <td>900</td>\n      <td>1</td>\n    </tr>\n    <tr>\n      <th>9</th>\n      <td>901</td>\n      <td>0</td>\n    </tr>\n  </tbody>\n</table>\n</div>"
          },
          "metadata": {}
        }
      ]
    },
    {
      "metadata": {
        "trusted": true,
        "_uuid": "154cc36c8c344dca695bb45e23e79af4986865c4"
      },
      "cell_type": "code",
      "source": "fname = 'Titanic_randomforest_7.csv'\nresult.to_csv(fname,index=False)",
      "execution_count": 90,
      "outputs": []
    }
  ],
  "metadata": {
    "kernelspec": {
      "display_name": "Python 3",
      "language": "python",
      "name": "python3"
    },
    "language_info": {
      "name": "python",
      "version": "3.6.6",
      "mimetype": "text/x-python",
      "codemirror_mode": {
        "name": "ipython",
        "version": 3
      },
      "pygments_lexer": "ipython3",
      "nbconvert_exporter": "python",
      "file_extension": ".py"
    }
  },
  "nbformat": 4,
  "nbformat_minor": 1
}